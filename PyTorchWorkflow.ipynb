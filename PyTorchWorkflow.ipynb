{
 "nbformat": 4,
 "nbformat_minor": 0,
 "metadata": {
  "colab": {
   "provenance": [],
   "authorship_tag": "ABX9TyOsNJNAbKqZm4N2xGQA7eNT",
   "include_colab_link": true
  },
  "kernelspec": {
   "name": "python3",
   "display_name": "Python 3 (ipykernel)",
   "language": "python"
  },
  "language_info": {
   "name": "python"
  }
 },
 "cells": [
  {
   "cell_type": "markdown",
   "metadata": {
    "id": "view-in-github",
    "colab_type": "text"
   },
   "source": [
    "<a href=\"https://colab.research.google.com/github/CharlesRMcCullough/PyTorch-Udemy/blob/main/PyTorchWorkflow.ipynb\" target=\"_parent\"><img src=\"https://colab.research.google.com/assets/colab-badge.svg\" alt=\"Open In Colab\"/></a>"
   ]
  },
  {
   "cell_type": "code",
   "source": [
    "import torch\n",
    "import numpy as np\n",
    "from torch import nn\n",
    "import matplotlib.pyplot as plt\n",
    "from pathlib import Path"
   ],
   "metadata": {
    "id": "T27SP2Oy6fXs",
    "ExecuteTime": {
     "end_time": "2024-11-28T16:50:08.471350Z",
     "start_time": "2024-11-28T16:50:08.320754Z"
    }
   },
   "outputs": [
    {
     "ename": "ModuleNotFoundError",
     "evalue": "No module named 'torch'",
     "output_type": "error",
     "traceback": [
      "\u001B[0;31m---------------------------------------------------------------------------\u001B[0m",
      "\u001B[0;31mModuleNotFoundError\u001B[0m                       Traceback (most recent call last)",
      "Cell \u001B[0;32mIn[1], line 1\u001B[0m\n\u001B[0;32m----> 1\u001B[0m \u001B[38;5;28;01mimport\u001B[39;00m \u001B[38;5;21;01mtorch\u001B[39;00m\n\u001B[1;32m      2\u001B[0m \u001B[38;5;28;01mimport\u001B[39;00m \u001B[38;5;21;01mnumpy\u001B[39;00m \u001B[38;5;28;01mas\u001B[39;00m \u001B[38;5;21;01mnp\u001B[39;00m\n\u001B[1;32m      3\u001B[0m \u001B[38;5;28;01mfrom\u001B[39;00m \u001B[38;5;21;01mtorch\u001B[39;00m \u001B[38;5;28;01mimport\u001B[39;00m nn\n",
      "\u001B[0;31mModuleNotFoundError\u001B[0m: No module named 'torch'"
     ]
    }
   ],
   "execution_count": 1
  },
  {
   "cell_type": "markdown",
   "source": [
    "## PyTorch Workflow\n",
    "\n",
    "### Let's explore an example of PyTorch end-to-end workflow."
   ],
   "metadata": {
    "id": "KwKCUaJI2yge"
   }
  },
  {
   "cell_type": "markdown",
   "source": [
    "## 1. Data (preparing and  loading)"
   ],
   "metadata": {
    "id": "jD8ILsrY7FTl"
   }
  },
  {
   "cell_type": "code",
   "execution_count": 2,
   "metadata": {
    "colab": {
     "base_uri": "https://localhost:8080/"
    },
    "id": "JWQc6KSW2oOz",
    "outputId": "368c924b-8983-4203-bc05-5430fd3243c3"
   },
   "outputs": [
    {
     "output_type": "execute_result",
     "data": {
      "text/plain": [
       "(tensor([[0.0000],\n",
       "         [0.0200],\n",
       "         [0.0400],\n",
       "         [0.0600],\n",
       "         [0.0800],\n",
       "         [0.1000],\n",
       "         [0.1200],\n",
       "         [0.1400],\n",
       "         [0.1600],\n",
       "         [0.1800]]),\n",
       " tensor([[0.3000],\n",
       "         [0.3140],\n",
       "         [0.3280],\n",
       "         [0.3420],\n",
       "         [0.3560],\n",
       "         [0.3700],\n",
       "         [0.3840],\n",
       "         [0.3980],\n",
       "         [0.4120],\n",
       "         [0.4260]]))"
      ]
     },
     "metadata": {},
     "execution_count": 2
    }
   ],
   "source": [
    "# Create *known* parameters\n",
    "weight = 0.7\n",
    "bias = 0.3\n",
    "\n",
    "# Create data\n",
    "start = 0\n",
    "end = 1\n",
    "step = 0.02\n",
    "X = torch.arange(start, end, step).unsqueeze(dim=1)\n",
    "y = weight * X + bias\n",
    "\n",
    "X[:10], y[:10]\n"
   ]
  },
  {
   "cell_type": "code",
   "source": [
    "len(X), len(y)"
   ],
   "metadata": {
    "colab": {
     "base_uri": "https://localhost:8080/"
    },
    "id": "fe8IP71e_Oy5",
    "outputId": "c4cd82a3-b3b8-4f6d-a346-145e1aba8550"
   },
   "execution_count": 3,
   "outputs": [
    {
     "output_type": "execute_result",
     "data": {
      "text/plain": [
       "(50, 50)"
      ]
     },
     "metadata": {},
     "execution_count": 3
    }
   ]
  },
  {
   "cell_type": "markdown",
   "source": [
    "### Splitting data into training and test sets (one of most importent items)"
   ],
   "metadata": {
    "id": "ccJ4AuJW_UFn"
   }
  },
  {
   "cell_type": "code",
   "source": [
    "train_split = int(0.8 * len(X))\n",
    "X_train, y_train = X[:train_split], y[:train_split]\n",
    "X_test, y_test = X[train_split:], y[train_split:]\n",
    "len(X_train), len(y_train), len(X_test), len(y_test)"
   ],
   "metadata": {
    "colab": {
     "base_uri": "https://localhost:8080/"
    },
    "id": "yaE9WJFV_fQF",
    "outputId": "7aca2a6a-080a-464a-e79c-7bd506d35a59"
   },
   "execution_count": 4,
   "outputs": [
    {
     "output_type": "execute_result",
     "data": {
      "text/plain": [
       "(40, 40, 10, 10)"
      ]
     },
     "metadata": {},
     "execution_count": 4
    }
   ]
  },
  {
   "cell_type": "code",
   "source": [
    "def plot_predictions(train_data=X_train,\n",
    "                     train_labels=y_train,\n",
    "                     test_data=X_test,\n",
    "                     test_labels=y_test,\n",
    "                     predictions=None):\n",
    "  \"\"\"\n",
    "  Plots training data, test data and compares predictions.\n",
    "  \"\"\"\n",
    "  plt.figure(figsize=(10, 7))\n",
    "\n",
    "  # plot training in blue\n",
    "  plt.scatter(train_data, train_labels, c=\"b\", s=4, label=\"Training data\")\n",
    "\n",
    "  # plot test data in green\n",
    "  plt.scatter(test_data, test_labels, c=\"g\", s=4, label=\"Testing data\")\n",
    "\n",
    "  if predictions is not None:\n",
    "    # Plot predictions if they exist\n",
    "    plt.scatter(test_data, predictions, c=\"r\", s=4, label=\"Predictions\")\n",
    "\n",
    "  # Show the legend\n",
    "  plt.legend(prop={\"size\": 14});"
   ],
   "metadata": {
    "id": "gfqg4sRQClsq"
   },
   "execution_count": 5,
   "outputs": []
  },
  {
   "cell_type": "code",
   "source": [
    "plot_predictions()"
   ],
   "metadata": {
    "colab": {
     "base_uri": "https://localhost:8080/",
     "height": 599
    },
    "id": "Qnu9DWxNEEcK",
    "outputId": "cc974c68-cf94-4093-b6b5-07fa34547377"
   },
   "execution_count": 6,
   "outputs": [
    {
     "output_type": "display_data",
     "data": {
      "text/plain": [
       "<Figure size 1000x700 with 1 Axes>"
      ],
      "image/png": "[encoded data removed]"
     },
     "metadata": {}
    }
   ]
  },
  {
   "cell_type": "markdown",
   "source": [
    "## 2. Build model"
   ],
   "metadata": {
    "id": "Sm8jpOQ3FQBz"
   }
  },
  {
   "cell_type": "code",
   "source": [
    "# Create a linear regression model class\n",
    "\n",
    "class LinearRegressionMode(nn.Module):\n",
    "  def __init__(self):\n",
    "    super().__init__()\n",
    "    self.weights = nn.Parameter(torch.rand(1,\n",
    "      requires_grad=True,\n",
    "      dtype=torch.float))\n",
    "    self.bias = nn.Parameter(torch.rand(1,\n",
    "      requires_grad=True,\n",
    "      dtype=torch.float))\n",
    "\n",
    "# Forward method to define the computation in the model\n",
    "  def forward(self, x: torch.Tensor) -> torch.Tensor:\n",
    "    return self.weights * x + self.bias"
   ],
   "metadata": {
    "id": "UxlBcsBsFa2z"
   },
   "execution_count": 7,
   "outputs": []
  },
  {
   "cell_type": "code",
   "source": [
    "# Create a random seed\n",
    "torch.manual_seed(42)\n",
    "\n",
    "model_0 = LinearRegressionMode()\n",
    "model_0.state_dict()"
   ],
   "metadata": {
    "colab": {
     "base_uri": "https://localhost:8080/"
    },
    "id": "5X8I_6vHX_F3",
    "outputId": "7153bb3c-8b70-480c-8d0d-183b51990c16"
   },
   "execution_count": 8,
   "outputs": [
    {
     "output_type": "execute_result",
     "data": {
      "text/plain": [
       "OrderedDict([('weights', tensor([0.8823])), ('bias', tensor([0.9150]))])"
      ]
     },
     "metadata": {},
     "execution_count": 8
    }
   ]
  },
  {
   "cell_type": "markdown",
   "source": [
    "### Making prediction using torch.inference_model()"
   ],
   "metadata": {
    "id": "tiQU7HcNZzOW"
   }
  },
  {
   "cell_type": "code",
   "source": [
    "# Make predictions with modal\n",
    "with torch.inference_mode():\n",
    "  y_preds = model_0(X_test)\n",
    "y_preds"
   ],
   "metadata": {
    "colab": {
     "base_uri": "https://localhost:8080/"
    },
    "id": "wZ-fZWjUZ7Ra",
    "outputId": "cc41bfe3-f313-43ca-9ffa-cc6f1c151c7d"
   },
   "execution_count": 9,
   "outputs": [
    {
     "output_type": "execute_result",
     "data": {
      "text/plain": [
       "tensor([[1.6208],\n",
       "        [1.6385],\n",
       "        [1.6561],\n",
       "        [1.6738],\n",
       "        [1.6914],\n",
       "        [1.7090],\n",
       "        [1.7267],\n",
       "        [1.7443],\n",
       "        [1.7620],\n",
       "        [1.7796]])"
      ]
     },
     "metadata": {},
     "execution_count": 9
    }
   ]
  },
  {
   "cell_type": "code",
   "source": [
    "plot_predictions(predictions=y_preds)"
   ],
   "metadata": {
    "colab": {
     "base_uri": "https://localhost:8080/",
     "height": 599
    },
    "id": "9f0yiKyIcSTd",
    "outputId": "c2487f42-ea59-4281-a142-d640c8ff776a"
   },
   "execution_count": 10,
   "outputs": [
    {
     "output_type": "display_data",
     "data": {
      "text/plain": [
       "<Figure size 1000x700 with 1 Axes>"
      ],
      "image/png": "[encoded data removed]"
     },
     "metadata": {}
    }
   ]
  },
  {
   "cell_type": "markdown",
   "source": [
    "## Setup a loss funtion and optimizer\n"
   ],
   "metadata": {
    "id": "stKO1iQJiiBJ"
   }
  },
  {
   "cell_type": "code",
   "source": [
    "loss_fn = nn.L1Loss()\n",
    "optimizer = torch.optim.SGD(params=model_0.parameters(),\n",
    "                            lr=0.01)\n"
   ],
   "metadata": {
    "id": "LjgQXt-niwCy"
   },
   "execution_count": 11,
   "outputs": []
  },
  {
   "cell_type": "markdown",
   "source": [
    "### Building a training loop (and a testing loop) in PyTorch\n",
    "\n",
    "Needed:\n",
    "\n",
    "0. Loop through the data\n",
    "1. Forward pass (this involves data moving through out model's forwards\n",
    "   also called forward propagation\n",
    "2. Calculate the loss (compare forward pass predictions to ground truth\n",
    "   labels)\n",
    "3. Optimizer zero grad\n",
    "4. Loss backward - move backwards through the network to calculate the\n",
    "   gradients of each of the parameters of our model with respect to the loss\n",
    "5. Optimizer step -use the optimizer to adjust our model's parameters to try\n",
    "   and improve the loss (**gradient descent**)\n",
    "   "
   ],
   "metadata": {
    "id": "S83L8f_xIvr5"
   }
  },
  {
   "cell_type": "code",
   "source": [
    "# An epock is one loop through the data...\n",
    "torch_manual_seed = 42\n",
    "epochs = 100\n",
    "\n",
    "# Track different values\n",
    "epoch_count = []\n",
    "loss_values = []\n",
    "test_loss_values = []\n",
    "\n",
    "# 0. Loop through the data\n",
    "for epoch in range(epochs):\n",
    "# Set the model to taining mode\n",
    "  model_0.train()\n",
    "\n",
    "  # 1. Forward pass\n",
    "  y_pred = model_0(X_train)\n",
    "\n",
    "  # 2. Calculate the loss\n",
    "  loss = loss_fn(y_pred, y_train)\n",
    "  print(f\"Loss:{loss}\")\n",
    "\n",
    "  # 3. Optiimizer zero grad\n",
    "  optimizer.zero_grad()\n",
    "\n",
    "  # 4. Perform backpropagation on the loss with respect to the parameters of the model\n",
    "  loss.backward()\n",
    "\n",
    "  # 5. Step the optimizer (performs gradient descent)\n",
    "  optimizer.step()\n",
    "\n",
    "### Testing\n",
    "  model_0.eval() # turns off different settings in the model not needed for evaluation/test\n",
    "  with torch.inference_mode():\n",
    "    test_pred = model_0(X_test)\n",
    "    test_loss = loss_fn(test_pred, y_test)\n",
    "    if epoch % 10 == 0:\n",
    "      epoch_count.append(epoch)\n",
    "      loss_values.append(loss)\n",
    "      test_loss_values.append(test_loss)\n",
    "      print(f\"Epoch: {epoch} | Test: {loss} | Test loss: {test_loss}\")\n",
    "\n",
    "\n",
    "model_0.state_dict()\n",
    "#test_pred, test_loss"
   ],
   "metadata": {
    "id": "CTTKT6fALJya",
    "colab": {
     "base_uri": "https://localhost:8080/"
    },
    "outputId": "23a94228-de2c-4b72-b74f-3dac6d898791"
   },
   "execution_count": 12,
   "outputs": [
    {
     "output_type": "stream",
     "name": "stdout",
     "text": [
      "Loss:0.6860889196395874\n",
      "Epoch: 0 | Test: 0.6860889196395874 | Test loss: 0.7637526988983154\n",
      "Loss:0.6745679974555969\n",
      "Loss:0.6630470156669617\n",
      "Loss:0.6515260338783264\n",
      "Loss:0.6400049924850464\n",
      "Loss:0.6284840703010559\n",
      "Loss:0.6169630289077759\n",
      "Loss:0.6054420471191406\n",
      "Loss:0.5939210653305054\n",
      "Loss:0.5824000239372253\n",
      "Loss:0.5708791017532349\n",
      "Epoch: 10 | Test: 0.5708791017532349 | Test loss: 0.6290428042411804\n",
      "Loss:0.5593580603599548\n",
      "Loss:0.5478371381759644\n",
      "Loss:0.5363161563873291\n",
      "Loss:0.5247951149940491\n",
      "Loss:0.5132741332054138\n",
      "Loss:0.5017532110214233\n",
      "Loss:0.4902321696281433\n",
      "Loss:0.47871121764183044\n",
      "Loss:0.4671902060508728\n",
      "Loss:0.45566922426223755\n",
      "Epoch: 20 | Test: 0.45566922426223755 | Test loss: 0.4943329691886902\n",
      "Loss:0.4441482126712799\n",
      "Loss:0.43262726068496704\n",
      "Loss:0.4211062490940094\n",
      "Loss:0.40958523750305176\n",
      "Loss:0.3980643153190613\n",
      "Loss:0.38654330372810364\n",
      "Loss:0.375022292137146\n",
      "Loss:0.36350134015083313\n",
      "Loss:0.3519803285598755\n",
      "Loss:0.34045934677124023\n",
      "Epoch: 30 | Test: 0.34045934677124023 | Test loss: 0.35962313413619995\n",
      "Loss:0.328938364982605\n",
      "Loss:0.31741735339164734\n",
      "Loss:0.3058963716030121\n",
      "Loss:0.2943754196166992\n",
      "Loss:0.2828544080257416\n",
      "Loss:0.2713334262371063\n",
      "Loss:0.25981244444847107\n",
      "Loss:0.24829146265983582\n",
      "Loss:0.23677048087120056\n",
      "Loss:0.2252494841814041\n",
      "Epoch: 40 | Test: 0.2252494841814041 | Test loss: 0.2249133139848709\n",
      "Loss:0.21372847259044647\n",
      "Loss:0.20220749080181122\n",
      "Loss:0.19068653881549835\n",
      "Loss:0.1791655272245407\n",
      "Loss:0.16764454543590546\n",
      "Loss:0.156123548746109\n",
      "Loss:0.14460256695747375\n",
      "Loss:0.1330815702676773\n",
      "Loss:0.12156059592962265\n",
      "Loss:0.1100396141409874\n",
      "Epoch: 50 | Test: 0.1100396141409874 | Test loss: 0.09020347893238068\n",
      "Loss:0.09851861745119095\n",
      "Loss:0.0869976356625557\n",
      "Loss:0.07547664642333984\n",
      "Loss:0.06395565718412399\n",
      "Loss:0.05243467539548874\n",
      "Loss:0.04091368243098259\n",
      "Loss:0.029392695054411888\n",
      "Loss:0.017871711403131485\n",
      "Loss:0.010616960003972054\n",
      "Loss:0.009724985808134079\n",
      "Epoch: 60 | Test: 0.009724985808134079 | Test loss: 0.020998019725084305\n",
      "Loss:0.009325616993010044\n",
      "Loss:0.00897279754281044\n",
      "Loss:0.008620461449027061\n",
      "Loss:0.008283796720206738\n",
      "Loss:0.007935261353850365\n",
      "Loss:0.007594785653054714\n",
      "Loss:0.007250060793012381\n",
      "Loss:0.00690577644854784\n",
      "Loss:0.0065648676827549934\n",
      "Loss:0.006216754671186209\n",
      "Epoch: 70 | Test: 0.006216754671186209 | Test loss: 0.014099234715104103\n",
      "Loss:0.005879654549062252\n",
      "Loss:0.0055306581780314445\n",
      "Loss:0.0051915524527430534\n",
      "Loss:0.0048454562202095985\n",
      "Loss:0.004502544645220041\n",
      "Loss:0.004160256590694189\n",
      "Loss:0.00381353497505188\n",
      "Loss:0.003475042525678873\n",
      "Loss:0.003126060124486685\n",
      "Loss:0.002788322512060404\n",
      "Epoch: 80 | Test: 0.002788322512060404 | Test loss: 0.005826681852340698\n",
      "Loss:0.0024408488534390926\n",
      "Loss:0.002099317265674472\n",
      "Loss:0.0017560191918164492\n",
      "Loss:0.001492114388383925\n",
      "Loss:0.0019509084522724152\n",
      "Loss:0.007095950655639172\n",
      "Loss:0.004425036255270243\n",
      "Loss:0.007095950655639172\n",
      "Loss:0.004425036255270243\n",
      "Loss:0.007095950655639172\n",
      "Epoch: 90 | Test: 0.007095950655639172 | Test loss: 0.00754010071977973\n",
      "Loss:0.004425036255270243\n",
      "Loss:0.007095950655639172\n",
      "Loss:0.004425036255270243\n",
      "Loss:0.007095950655639172\n",
      "Loss:0.004425036255270243\n",
      "Loss:0.007095950655639172\n",
      "Loss:0.004425036255270243\n",
      "Loss:0.007095950655639172\n",
      "Loss:0.004425036255270243\n"
     ]
    },
    {
     "output_type": "execute_result",
     "data": {
      "text/plain": [
       "OrderedDict([('weights', tensor([0.6977])), ('bias', tensor([0.3080]))])"
      ]
     },
     "metadata": {},
     "execution_count": 12
    }
   ]
  },
  {
   "cell_type": "code",
   "source": [
    "# Plot the loss curve\n",
    "plt.plot(epoch_count, np.array(torch.tensor(loss_values).cpu().numpy()), label=\"Train loss\")\n",
    "plt.plot(epoch_count, test_loss_values, label=\"Test loss\")\n",
    "plt.title(\"Training and test loss curves\")\n",
    "plt.ylabel(\"Loss\")\n",
    "plt.xlabel(\"Epochs\")\n",
    "plt.legend()"
   ],
   "metadata": {
    "colab": {
     "base_uri": "https://localhost:8080/",
     "height": 489
    },
    "id": "GKLqh2KxwuCP",
    "outputId": "3e5696c5-41f3-4245-af78-03f621d1a445"
   },
   "execution_count": 13,
   "outputs": [
    {
     "output_type": "execute_result",
     "data": {
      "text/plain": [
       "<matplotlib.legend.Legend at 0x7b7f115ef730>"
      ]
     },
     "metadata": {},
     "execution_count": 13
    },
    {
     "output_type": "display_data",
     "data": {
      "text/plain": [
       "<Figure size 640x480 with 1 Axes>"
      ],
      "image/png": "[encoded data removed]"
     },
     "metadata": {}
    }
   ]
  },
  {
   "cell_type": "code",
   "source": [
    "with torch.inference_mode():\n",
    "    test_pred = model_0(X_test)\n",
    "    test_loss = loss_fn(test_pred, y_test)"
   ],
   "metadata": {
    "id": "xHfkReFPk27X"
   },
   "execution_count": 14,
   "outputs": []
  },
  {
   "cell_type": "code",
   "source": [
    "model_0.state_dict()\n",
    "#test_pred, test_loss"
   ],
   "metadata": {
    "colab": {
     "base_uri": "https://localhost:8080/"
    },
    "id": "D2tky9OiP-Yj",
    "outputId": "2a4ba3c1-3dd4-4606-e976-627439b7a2a3"
   },
   "execution_count": 15,
   "outputs": [
    {
     "output_type": "execute_result",
     "data": {
      "text/plain": [
       "OrderedDict([('weights', tensor([0.6977])), ('bias', tensor([0.3080]))])"
      ]
     },
     "metadata": {},
     "execution_count": 15
    }
   ]
  },
  {
   "cell_type": "code",
   "source": [
    "plot_predictions(predictions=test_pred)"
   ],
   "metadata": {
    "colab": {
     "base_uri": "https://localhost:8080/",
     "height": 599
    },
    "id": "3g4eBg54lNig",
    "outputId": "a523c0f6-f0f5-4253-84bf-e3bc502bc9a9"
   },
   "execution_count": 16,
   "outputs": [
    {
     "output_type": "display_data",
     "data": {
      "text/plain": [
       "<Figure size 1000x700 with 1 Axes>"
      ],
      "image/png": "[encoded data removed]"
     },
     "metadata": {}
    }
   ]
  },
  {
   "cell_type": "code",
   "source": [
    "MODEL_PATH = Path(\"models\")\n",
    "MODEL_PATH.mkdir(parents=True, exist_ok=True)\n",
    "\n",
    "MODEL_NAME = \"01_pytorch_workflow_model.pth\"\n",
    "MODEL_SAVE_PATH = MODEL_PATH / MODEL_NAME\n",
    "print(f\"Saving model to: {MODEL_SAVE_PATH}\")\n",
    "torch.save(obj=model_0.state_dict(),\n",
    "           f=MODEL_SAVE_PATH)"
   ],
   "metadata": {
    "colab": {
     "base_uri": "https://localhost:8080/"
    },
    "id": "ZhL481VulNZo",
    "outputId": "ce83a193-00b4-43ee-9f75-a146abe4cffa"
   },
   "execution_count": 17,
   "outputs": [
    {
     "output_type": "stream",
     "name": "stdout",
     "text": [
      "Saving model to: models/01_pytorch_workflow_model.pth\n"
     ]
    }
   ]
  },
  {
   "cell_type": "code",
   "source": [
    "loaded_model_0 = LinearRegressionMode()\n",
    "loaded_model_0.load_state_dict(torch.load(MODEL_SAVE_PATH))"
   ],
   "metadata": {
    "colab": {
     "base_uri": "https://localhost:8080/"
    },
    "id": "-pAjXuYHLHbA",
    "outputId": "beb78173-92b7-4376-e177-9056bb9b1905"
   },
   "execution_count": 18,
   "outputs": [
    {
     "output_type": "stream",
     "name": "stderr",
     "text": [
      "<ipython-input-18-6bdba2791ef9>:2: FutureWarning: You are using `torch.load` with `weights_only=False` (the current default value), which uses the default pickle module implicitly. It is possible to construct malicious pickle data which will execute arbitrary code during unpickling (See https://github.com/pytorch/pytorch/blob/main/SECURITY.md#untrusted-models for more details). In a future release, the default value for `weights_only` will be flipped to `True`. This limits the functions that could be executed during unpickling. Arbitrary objects will no longer be allowed to be loaded via this mode unless they are explicitly allowlisted by the user via `torch.serialization.add_safe_globals`. We recommend you start setting `weights_only=True` for any use case where you don't have full control of the loaded file. Please open an issue on GitHub for any issues related to this experimental feature.\n",
      "  loaded_model_0.load_state_dict(torch.load(MODEL_SAVE_PATH))\n"
     ]
    },
    {
     "output_type": "execute_result",
     "data": {
      "text/plain": [
       "<All keys matched successfully>"
      ]
     },
     "metadata": {},
     "execution_count": 18
    }
   ]
  },
  {
   "cell_type": "code",
   "source": [
    "loaded_model_0.eval()\n",
    "with torch.inference_mode():\n",
    "  loaded_model_preds = loaded_model_0(X_test)\n",
    "\n",
    "loaded_model_preds\n"
   ],
   "metadata": {
    "colab": {
     "base_uri": "https://localhost:8080/"
    },
    "id": "qdPHyByeOlr1",
    "outputId": "5fc8dccc-acc1-4eed-f76d-74e0439ecbf9"
   },
   "execution_count": 19,
   "outputs": [
    {
     "output_type": "execute_result",
     "data": {
      "text/plain": [
       "tensor([[0.8661],\n",
       "        [0.8801],\n",
       "        [0.8940],\n",
       "        [0.9080],\n",
       "        [0.9220],\n",
       "        [0.9359],\n",
       "        [0.9499],\n",
       "        [0.9638],\n",
       "        [0.9778],\n",
       "        [0.9917]])"
      ]
     },
     "metadata": {},
     "execution_count": 19
    }
   ]
  },
  {
   "cell_type": "code",
   "source": [
    "model_0.eval()\n",
    "with torch.inference_mode():\n",
    "  model_preds = model_0(X_test)\n",
    "\n",
    "model_preds"
   ],
   "metadata": {
    "colab": {
     "base_uri": "https://localhost:8080/"
    },
    "id": "EiPSOp55PFlw",
    "outputId": "45614321-5eb4-4c24-eb47-287a0a50b7dd"
   },
   "execution_count": 20,
   "outputs": [
    {
     "output_type": "execute_result",
     "data": {
      "text/plain": [
       "tensor([[0.8661],\n",
       "        [0.8801],\n",
       "        [0.8940],\n",
       "        [0.9080],\n",
       "        [0.9220],\n",
       "        [0.9359],\n",
       "        [0.9499],\n",
       "        [0.9638],\n",
       "        [0.9778],\n",
       "        [0.9917]])"
      ]
     },
     "metadata": {},
     "execution_count": 20
    }
   ]
  }
 ]
}
