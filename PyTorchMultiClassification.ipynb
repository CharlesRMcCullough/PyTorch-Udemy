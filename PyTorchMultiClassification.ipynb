{
 "nbformat": 4,
 "nbformat_minor": 0,
 "metadata": {
  "colab": {
   "provenance": [],
   "authorship_tag": "ABX9TyMUP8NXSx2jxwhRarhu4v+L",
   "include_colab_link": true
  },
  "kernelspec": {
   "name": "pytorchenv",
   "display_name": "PyTorchEnv",
   "language": "python"
  },
  "language_info": {
   "name": "python"
  }
 },
 "cells": [
  {
   "cell_type": "markdown",
   "metadata": {
    "id": "view-in-github",
    "colab_type": "text"
   },
   "source": [
    "<a href=\"https://colab.research.google.com/github/CharlesRMcCullough/PyTorch-Udemy/blob/main/PyTorchMultiClassification.ipynb\" target=\"_parent\"><img src=\"https://colab.research.google.com/assets/colab-badge.svg\" alt=\"Open In Colab\"/></a>"
   ]
  },
  {
   "cell_type": "code",
   "source": [
    "import torch\n",
    "import torch.nn as nn\n",
    "import numpy as np\n",
    "import matplotlib.pyplot as plt\n",
    "from sklearn.datasets import make_blobs\n",
    "from sklearn.model_selection import train_test_split\n",
    "import requests\n",
    "from pathlib import Path\n"
   ],
   "metadata": {
    "id": "1hj60DDim1do",
    "ExecuteTime": {
     "end_time": "2024-12-22T03:38:24.793893Z",
     "start_time": "2024-12-22T03:38:23.552576Z"
    }
   },
   "outputs": [],
   "execution_count": 1
  },
  {
   "cell_type": "markdown",
   "source": [
    "## Multi-Class Classification\n"
   ],
   "metadata": {
    "id": "GWHvfT31muMx"
   }
  },
  {
   "cell_type": "markdown",
   "source": [
    "### Creating a toy multi-class dataset"
   ],
   "metadata": {
    "id": "i9NbcxQ1npBm"
   }
  },
  {
   "metadata": {
    "ExecuteTime": {
     "end_time": "2024-12-22T03:38:28.359414Z",
     "start_time": "2024-12-22T03:38:28.355481Z"
    }
   },
   "cell_type": "code",
   "source": "torch.__version__",
   "outputs": [
    {
     "data": {
      "text/plain": [
       "'2.5.1'"
      ]
     },
     "execution_count": 2,
     "metadata": {},
     "output_type": "execute_result"
    }
   ],
   "execution_count": 2
  },
  {
   "cell_type": "code",
   "source": [
    "# Set tthe hyperparameters for data creation\n",
    "NUM_CLASSES = 4\n",
    "NUM_FEATURES = 2\n",
    "RANDOM_SEED = 42\n",
    "\n"
   ],
   "metadata": {
    "id": "AbryMzicottZ"
   },
   "outputs": [],
   "execution_count": null
  },
  {
   "cell_type": "code",
   "source": [
    "X_blob, y_blob = make_blobs(n_samples=1000,\n",
    "                          n_features=NUM_FEATURES,\n",
    "                          centers=NUM_CLASSES,\n",
    "                          cluster_std=1.5,\n",
    "                          random_state=RANDOM_SEED)"
   ],
   "metadata": {
    "id": "2CVSDM6epcCO"
   },
   "outputs": [],
   "execution_count": null
  },
  {
   "cell_type": "code",
   "source": [
    "# 2. Turn data into tensors\n",
    "X_blob = torch.from_numpy(X_blob).type(torch.float)\n",
    "y_blob = torch.from_numpy(y_blob).type(torch.LongTensor)\n",
    "print(X_blob[:5], y_blob[:5])\n"
   ],
   "metadata": {
    "id": "1slCBY48p2wx",
    "colab": {
     "base_uri": "https://localhost:8080/"
    },
    "outputId": "450bb240-5fb8-4573-83ae-4c5255d9c1b9"
   },
   "outputs": [],
   "execution_count": null
  },
  {
   "cell_type": "code",
   "source": [
    "# Split into train and test\n",
    "X_blob_train, X_blob_test, y_blob_train, y_blob_test = train_test_split(X_blob,\n",
    "                                                      y_blob,\n",
    "                                                      test_size=0.2,\n",
    "                                                      random_state=RANDOM_SEED)"
   ],
   "metadata": {
    "id": "6DXDHLqoqjdf"
   },
   "outputs": [],
   "execution_count": null
  },
  {
   "cell_type": "code",
   "source": [
    "# Plot data\n",
    "plt.figure(figsize=(10, 7))\n",
    "plt.scatter(X_blob[:, 0], X_blob[:, 1], c=y_blob, cmap=plt.cm.RdYlBu)"
   ],
   "metadata": {
    "colab": {
     "base_uri": "https://localhost:8080/",
     "height": 616
    },
    "id": "UpPF2kNOrT-b",
    "outputId": "aa98ea03-ca7a-45f9-e77d-3108e54ffce2"
   },
   "outputs": [],
   "execution_count": null
  },
  {
   "cell_type": "code",
   "source": [
    "# Create device\n",
    "\n",
    "device = \"cuda\" if torch.cuda.is_available() else \"cpu\"\n",
    "device"
   ],
   "metadata": {
    "id": "7ek2JsentDco",
    "colab": {
     "base_uri": "https://localhost:8080/",
     "height": 36
    },
    "outputId": "b15ec25c-59d9-4981-98c8-81726eee9b48",
    "ExecuteTime": {
     "end_time": "2024-12-22T03:38:35.498191Z",
     "start_time": "2024-12-22T03:38:35.484968Z"
    }
   },
   "outputs": [
    {
     "data": {
      "text/plain": [
       "'cuda'"
      ]
     },
     "execution_count": 3,
     "metadata": {},
     "output_type": "execute_result"
    }
   ],
   "execution_count": 3
  },
  {
   "cell_type": "code",
   "source": [
    "# Bild a multi-class classification model\n",
    "class BlobModel(nn.Module):\n",
    "  def __init__(self, input_features, output_features, hidden_units=8):\n",
    "    \"\"\" Initialize multi-class classification model.\n",
    "        Args:\n",
    "          input_features (int): number of input features to the model\n",
    "          output_features (int): number of output features of the model\n",
    "          hidden_units (int): number of hidden units between layers, default 8\n",
    "\n",
    "    \"\"\"\n",
    "    super().__init__()\n",
    "    self.linear_layer_stack = nn.Sequential(\n",
    "        nn.Linear(in_features=input_features, out_features=hidden_units),\n",
    "        nn.ReLU(),\n",
    "        nn.Linear(in_features= hidden_units, out_features=hidden_units),\n",
    "        nn.ReLU(),\n",
    "        nn.Linear(in_features=hidden_units, out_features=output_features)\n",
    "    )\n",
    "\n",
    "  def forward(self, x):\n",
    "    return self.linear_layer_stack(x)\n",
    "\n",
    "\n",
    "model_4 = BlobModel(input_features=NUM_FEATURES,\n",
    "                    output_features=NUM_CLASSES,\n",
    "                    hidden_units=8).to(device)\n",
    "model_4"
   ],
   "metadata": {
    "colab": {
     "base_uri": "https://localhost:8080/"
    },
    "id": "jZ2BzwjJBPWn",
    "outputId": "d937ec07-a902-4fbd-e438-48f6e2aa2dc6"
   },
   "outputs": [],
   "execution_count": null
  },
  {
   "cell_type": "code",
   "source": [
    "# Calculate accuracy (a classification metric)\n",
    "def accuracy_fn(y_true, y_pred):\n",
    "    correct = torch.eq(y_true, y_pred).sum().item() # torch.eq() calculates where two tensors are equal\n",
    "    acc = (correct / len(y_pred)) * 100\n",
    "    return acc"
   ],
   "metadata": {
    "id": "zRGPKMLjXZPO"
   },
   "outputs": [],
   "execution_count": null
  },
  {
   "cell_type": "code",
   "source": [
    "# Download helper functions from Learn PyTorch repo (if not already downloaded)\n",
    "if Path(\"helper_functions.py\").is_file():\n",
    "  print(\"helper_functions.py already exists, skipping download\")\n",
    "else:\n",
    "  print(\"Downloading helper_functions.py\")\n",
    "  request = requests.get(\"https://raw.githubusercontent.com/mrdbourke/pytorch-deep-learning/main/helper_functions.py\")\n",
    "  with open(\"helper_functions.py\", \"wb\") as f:\n",
    "    f.write(request.content)\n",
    "\n",
    "from helper_functions import plot_predictions, plot_decision_boundary"
   ],
   "metadata": {
    "colab": {
     "base_uri": "https://localhost:8080/"
    },
    "id": "Z9QmK7wthkTw",
    "outputId": "02ebe19b-5357-457f-8235-47294a80b4a2"
   },
   "outputs": [],
   "execution_count": null
  },
  {
   "cell_type": "code",
   "source": [
    "## Create loss function and optimizer\n",
    "\n",
    "loss_fn = nn.CrossEntropyLoss()\n",
    "\n",
    "optimizer = torch.optim.SGD(params = model_4.parameters(), lr=0.01)"
   ],
   "metadata": {
    "id": "2U29ktWMGCOE"
   },
   "outputs": [],
   "execution_count": null
  },
  {
   "cell_type": "markdown",
   "source": [
    "#### Getting prediction probabilities for a multi-class PyTorch model\n",
    "\n",
    "In order to evaluate and train and test out model, we need to convert out models outpus (logits) to prediction probabilities and the to prediction labels.\n",
    "\n",
    "Logits (raw output of the model) -> Pred probs (used 'torch.softmax') ->\n",
    "Pred labels\n",
    "\n",
    "(take the argmax of the prediction probilities)"
   ],
   "metadata": {
    "id": "qDvGQlQTQkhD"
   }
  },
  {
   "cell_type": "code",
   "source": [
    "# Getting predicition probabilities for a multi-class PyTorch model\n",
    "\n",
    "model_4(X_blob_train.to(device))[:5]"
   ],
   "metadata": {
    "colab": {
     "base_uri": "https://localhost:8080/"
    },
    "id": "rd7mXK-4LGjq",
    "outputId": "85865370-0e78-4d84-e14f-a88d30f3ebfb"
   },
   "outputs": [],
   "execution_count": null
  },
  {
   "cell_type": "code",
   "source": [
    "# How many elements in a single prediction sample?\n",
    "model_4(X_blob_train.to(device))[0].shape, NUM_CLASSES"
   ],
   "metadata": {
    "colab": {
     "base_uri": "https://localhost:8080/"
    },
    "id": "-MiZHPl8fyOF",
    "outputId": "979b15e0-d909-4a2a-aef1-d4060a41d5fc"
   },
   "outputs": [],
   "execution_count": null
  },
  {
   "cell_type": "code",
   "source": [
    "# Make prediction logits with model\n",
    "y_logits = model_4(X_blob_test.to(device))\n",
    "\n",
    "# Perform softmax calculation on logits across dimension 1 to get prediction probabilities\n",
    "y_pred_probs = torch.softmax(y_logits, dim=1)\n",
    "print(y_logits[:5])\n",
    "print(y_pred_probs[:5])\n"
   ],
   "metadata": {
    "colab": {
     "base_uri": "https://localhost:8080/"
    },
    "id": "Do1Y8xqPOJFO",
    "outputId": "340a9fe7-0d50-4977-e8ee-f7a8ab705225"
   },
   "outputs": [],
   "execution_count": null
  },
  {
   "cell_type": "code",
   "source": [
    "# Convert out model's prediction probabilites to prediction labels\n",
    "y_preds = torch.argmax(y_pred_probs, dim=1)\n",
    "y_preds[:10]\n"
   ],
   "metadata": {
    "colab": {
     "base_uri": "https://localhost:8080/"
    },
    "id": "d5l4b6o0Py9N",
    "outputId": "57c94121-f101-4d0d-9c00-6c378c0297a6"
   },
   "outputs": [],
   "execution_count": null
  },
  {
   "cell_type": "code",
   "source": [
    "# Sum the first sample output of the softmax activation function\n",
    "torch.sum(y_pred_probs[0])"
   ],
   "metadata": {
    "colab": {
     "base_uri": "https://localhost:8080/"
    },
    "id": "hQXF5Pt1QIDR",
    "outputId": "312bd296-c33f-49ac-a0ce-108657c00477"
   },
   "outputs": [],
   "execution_count": null
  },
  {
   "cell_type": "markdown",
   "source": [
    "#### Creating a training and testing loop for a multi-class model"
   ],
   "metadata": {
    "id": "0Qa4XFp4TkLN"
   }
  },
  {
   "cell_type": "code",
   "source": [
    "# Fit the multi-class model to the data\n",
    "\n",
    "if device == \"cuda\":\n",
    "  torch.cuda.manual_seed(42)\n",
    "else:\n",
    "  torch.manual_seed(42)\n",
    "\n",
    "epochs = 1000\n",
    "\n",
    "# Put data to target device\n",
    "X_blob_train, y_blob_train = X_blob_train.to(device), y_blob_train.to(device)\n",
    "X_blob_test, y_blob_test = X_blob_test.to(device), y_blob_test.to(device)\n",
    "\n",
    "\n",
    "\n"
   ],
   "metadata": {
    "id": "Gs3Hk98vRVyf"
   },
   "outputs": [],
   "execution_count": null
  },
  {
   "cell_type": "code",
   "source": [
    "for epoch in range(epochs):\n",
    "    ### Training\n",
    "    model_4.train()\n",
    "\n",
    "    # 1. Forward pass\n",
    "    y_logits = model_4(X_blob_train) # model outputs raw logits\n",
    "    y_pred = torch.softmax(y_logits, dim=1).argmax(dim=1) # go from logits -> prediction probabilities -> prediction labels\n",
    "    # print(y_logits)\n",
    "    # 2. Calculate loss and accuracy\n",
    "    loss = loss_fn(y_logits, y_blob_train)\n",
    "    acc = accuracy_fn(y_true=y_blob_train,\n",
    "                      y_pred=y_pred)\n",
    "\n",
    "    # 3. Optimizer zero grad\n",
    "    optimizer.zero_grad()\n",
    "\n",
    "    # 4. Loss backwards\n",
    "    loss.backward()\n",
    "\n",
    "    # 5. Optimizer step\n",
    "    optimizer.step()\n",
    "\n",
    "    ### Testing\n",
    "    model_4.eval()\n",
    "    with torch.inference_mode():\n",
    "      # 1. Forward pass\n",
    "      test_logits = model_4(X_blob_test)\n",
    "      test_pred = torch.softmax(test_logits, dim=1).argmax(dim=1)\n",
    "      # 2. Calculate test loss and accuracy\n",
    "      test_loss = loss_fn(test_logits, y_blob_test)\n",
    "      test_acc = accuracy_fn(y_true=y_blob_test,\n",
    "                             y_pred=test_pred)\n",
    "\n",
    "    # Print out what's happening\n",
    "    if epoch % 10 == 0:\n",
    "        print(f\"Epoch: {epoch} | Loss: {loss:.5f}, Acc: {acc:.2f}% | Test Loss: {test_loss:.5f}, Test Acc: {test_acc:.2f}%\")\n",
    "\n"
   ],
   "metadata": {
    "colab": {
     "base_uri": "https://localhost:8080/"
    },
    "id": "fg58_UM2WR_-",
    "outputId": "b486e6be-f405-4fc6-ee5e-c3c20a6df041"
   },
   "outputs": [],
   "execution_count": null
  },
  {
   "cell_type": "code",
   "source": [
    "# Make predictions\n",
    "model_4.eval()\n",
    "with torch.inference_mode():\n",
    "    y_logits = model_4(X_blob_test)\n",
    "\n",
    "# View the first 10 predictions\n",
    "y_logits[:10]"
   ],
   "metadata": {
    "colab": {
     "base_uri": "https://localhost:8080/"
    },
    "id": "4BDkkY-4gsAc",
    "outputId": "2cf6f3a7-898e-4dab-cbf6-3cd6d87c11e5"
   },
   "outputs": [],
   "execution_count": null
  },
  {
   "cell_type": "code",
   "source": [
    "# Turn predicted logits in prediction probabilities\n",
    "y_pred_probs = torch.softmax(y_logits, dim=1)\n",
    "\n",
    "# Turn prediction probabilities into prediction labels\n",
    "y_preds = y_pred_probs.argmax(dim=1)\n",
    "\n",
    "# Compare first 10 model preds and test labels\n",
    "print(f\"Predictions: {y_preds[:10]}\\nLabels: {y_blob_test[:10]}\")\n",
    "print(f\"Test accuracy: {accuracy_fn(y_true=y_blob_test, y_pred=y_preds)}%\")"
   ],
   "metadata": {
    "colab": {
     "base_uri": "https://localhost:8080/"
    },
    "id": "mnXfFd-ggwjZ",
    "outputId": "43107714-f17f-4a8d-bbac-0920f8d9a6e9"
   },
   "outputs": [],
   "execution_count": null
  },
  {
   "cell_type": "code",
   "source": [
    "plt.figure(figsize=(12, 6))\n",
    "plt.subplot(1, 2, 1)\n",
    "plt.title(\"Train\")\n",
    "plot_decision_boundary(model_4, X_blob_train, y_blob_train)\n",
    "plt.subplot(1, 2, 2)\n",
    "plt.title(\"Test\")\n",
    "plot_decision_boundary(model_4, X_blob_test, y_blob_test)"
   ],
   "metadata": {
    "colab": {
     "base_uri": "https://localhost:8080/",
     "height": 545
    },
    "id": "RbKAqkmNgy7W",
    "outputId": "ca820287-1b31-40e1-ef60-8ed57db3e6f7"
   },
   "outputs": [],
   "execution_count": null
  },
  {
   "cell_type": "code",
   "source": [
    "try:\n",
    "    from torchmetrics import Accuracy\n",
    "except:\n",
    "    !pip install torchmetrics==0.9.3 # this is the version we're using in this notebook (later versions exist here: https://torchmetrics.readthedocs.io/en/stable/generated/CHANGELOG.html#changelog)\n",
    "    from torchmetrics import Accuracy\n",
    "\n",
    "# Setup metric and make sure it's on the target device\n",
    "torchmetrics_accuracy = Accuracy(task='multiclass', num_classes=4).to(device)\n",
    "\n",
    "# Calculate accuracy\n",
    "torchmetrics_accuracy(y_preds, y_blob_test)"
   ],
   "metadata": {
    "colab": {
     "base_uri": "https://localhost:8080/"
    },
    "id": "Z6-CRMlbg15O",
    "outputId": "78efc227-5a3d-4f34-a7b5-bee4e02c564f"
   },
   "outputs": [],
   "execution_count": null
  }
 ]
}
