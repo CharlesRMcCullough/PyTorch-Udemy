{
 "cells": [
  {
   "cell_type": "code",
   "id": "497679a726f0bf5f",
   "metadata": {
    "ExecuteTime": {
     "end_time": "2024-11-19T20:28:29.649625Z",
     "start_time": "2024-11-19T20:28:29.644436Z"
    }
   },
   "source": [
    "import torch\n",
    "import pandas as pd\n",
    "import numpy as np\n",
    "import matplotlib.pyplot as plt"
   ],
   "outputs": [],
   "execution_count": 3
  },
  {
   "cell_type": "markdown",
   "id": "6dc07da8e365026b",
   "metadata": {},
   "source": [
    "## 00. PyTorch Fundamentals"
   ]
  },
  {
   "cell_type": "code",
   "id": "b09278ade8854957",
   "metadata": {
    "ExecuteTime": {
     "end_time": "2024-11-19T00:35:22.630916Z",
     "start_time": "2024-11-19T00:35:22.624265Z"
    }
   },
   "source": [
    "print(torch.__version__)"
   ],
   "outputs": [
    {
     "name": "stdout",
     "output_type": "stream",
     "text": [
      "2.5.1\n"
     ]
    }
   ],
   "execution_count": 2
  },
  {
   "cell_type": "markdown",
   "id": "68c8ffac",
   "metadata": {},
   "source": [
    "## Introduction to Tensors\n",
    "#### Creating tensors"
   ]
  },
  {
   "cell_type": "markdown",
   "id": "abffe6cf",
   "metadata": {},
   "source": [
    "#### Scalar"
   ]
  },
  {
   "cell_type": "code",
   "id": "2afd936f48f3877d",
   "metadata": {
    "ExecuteTime": {
     "end_time": "2024-11-19T00:35:25.656814Z",
     "start_time": "2024-11-19T00:35:25.640511Z"
    }
   },
   "source": [
    "scalar = torch.tensor(7)\n",
    "scalar"
   ],
   "outputs": [
    {
     "data": {
      "text/plain": [
       "tensor(7)"
      ]
     },
     "execution_count": 3,
     "metadata": {},
     "output_type": "execute_result"
    }
   ],
   "execution_count": 3
  },
  {
   "metadata": {
    "ExecuteTime": {
     "end_time": "2024-11-19T00:35:27.605456Z",
     "start_time": "2024-11-19T00:35:27.597258Z"
    }
   },
   "cell_type": "code",
   "source": "scalar.ndim",
   "id": "46079930f50272ef",
   "outputs": [
    {
     "data": {
      "text/plain": [
       "0"
      ]
     },
     "execution_count": 4,
     "metadata": {},
     "output_type": "execute_result"
    }
   ],
   "execution_count": 4
  },
  {
   "metadata": {
    "ExecuteTime": {
     "end_time": "2024-11-19T00:35:54.721725Z",
     "start_time": "2024-11-19T00:35:54.713102Z"
    }
   },
   "cell_type": "code",
   "source": "scalar.item()",
   "id": "ba2e52b801ec256d",
   "outputs": [
    {
     "data": {
      "text/plain": [
       "7"
      ]
     },
     "execution_count": 5,
     "metadata": {},
     "output_type": "execute_result"
    }
   ],
   "execution_count": 5
  },
  {
   "metadata": {},
   "cell_type": "markdown",
   "source": "#### Vectors",
   "id": "2a668d2974563e10"
  },
  {
   "metadata": {
    "ExecuteTime": {
     "end_time": "2024-11-19T00:38:37.204876Z",
     "start_time": "2024-11-19T00:38:37.200688Z"
    }
   },
   "cell_type": "code",
   "source": "vector = torch.tensor([7,7])\n",
   "id": "b1180afca277c0de",
   "outputs": [],
   "execution_count": 7
  },
  {
   "metadata": {
    "ExecuteTime": {
     "end_time": "2024-11-19T00:38:49.449396Z",
     "start_time": "2024-11-19T00:38:49.439582Z"
    }
   },
   "cell_type": "code",
   "source": "vector.ndim",
   "id": "ca4ac165ad57664d",
   "outputs": [
    {
     "data": {
      "text/plain": [
       "1"
      ]
     },
     "execution_count": 8,
     "metadata": {},
     "output_type": "execute_result"
    }
   ],
   "execution_count": 8
  },
  {
   "metadata": {
    "ExecuteTime": {
     "end_time": "2024-11-19T00:39:10.576057Z",
     "start_time": "2024-11-19T00:39:10.569796Z"
    }
   },
   "cell_type": "code",
   "source": "vector.size()",
   "id": "de6cf0e5bf511471",
   "outputs": [
    {
     "data": {
      "text/plain": [
       "torch.Size([2])"
      ]
     },
     "execution_count": 9,
     "metadata": {},
     "output_type": "execute_result"
    }
   ],
   "execution_count": 9
  },
  {
   "metadata": {},
   "cell_type": "markdown",
   "source": "####  MATRIX",
   "id": "199369e0cdf7f24c"
  },
  {
   "metadata": {
    "ExecuteTime": {
     "end_time": "2024-11-19T00:41:28.696688Z",
     "start_time": "2024-11-19T00:41:28.686621Z"
    }
   },
   "cell_type": "code",
   "source": [
    "MATRIX = torch.tensor([[7,8],\n",
    "                       [9, 10]])\n",
    "MATRIX"
   ],
   "id": "dc3a4053fbd90baf",
   "outputs": [
    {
     "data": {
      "text/plain": [
       "tensor([[ 7,  8],\n",
       "        [ 9, 10]])"
      ]
     },
     "execution_count": 10,
     "metadata": {},
     "output_type": "execute_result"
    }
   ],
   "execution_count": 10
  },
  {
   "metadata": {
    "ExecuteTime": {
     "end_time": "2024-11-19T00:43:59.684931Z",
     "start_time": "2024-11-19T00:43:59.678740Z"
    }
   },
   "cell_type": "code",
   "source": "MATRIX.ndim",
   "id": "1b9fbb4055457ed1",
   "outputs": [
    {
     "data": {
      "text/plain": [
       "2"
      ]
     },
     "execution_count": 11,
     "metadata": {},
     "output_type": "execute_result"
    }
   ],
   "execution_count": 11
  },
  {
   "metadata": {
    "ExecuteTime": {
     "end_time": "2024-11-19T00:44:37.292136Z",
     "start_time": "2024-11-19T00:44:37.287166Z"
    }
   },
   "cell_type": "code",
   "source": "MATRIX[0]",
   "id": "4dacd8735c35cfc1",
   "outputs": [
    {
     "data": {
      "text/plain": [
       "tensor([7, 8])"
      ]
     },
     "execution_count": 12,
     "metadata": {},
     "output_type": "execute_result"
    }
   ],
   "execution_count": 12
  },
  {
   "metadata": {
    "ExecuteTime": {
     "end_time": "2024-11-19T00:45:16.173755Z",
     "start_time": "2024-11-19T00:45:16.166304Z"
    }
   },
   "cell_type": "code",
   "source": "MATRIX.shape",
   "id": "e55897ee261ccfd6",
   "outputs": [
    {
     "data": {
      "text/plain": [
       "torch.Size([2, 2])"
      ]
     },
     "execution_count": 13,
     "metadata": {},
     "output_type": "execute_result"
    }
   ],
   "execution_count": 13
  },
  {
   "metadata": {},
   "cell_type": "markdown",
   "source": "## Tensor",
   "id": "9b4a299ebd385724"
  },
  {
   "metadata": {
    "ExecuteTime": {
     "end_time": "2024-11-19T00:47:38.578253Z",
     "start_time": "2024-11-19T00:47:38.571135Z"
    }
   },
   "cell_type": "code",
   "source": [
    "TENSOR = torch.tensor([[[1, 2, 3],\n",
    "                        [3, 6, 9],\n",
    "                        [2, 4, 5]]])\n",
    "TENSOR"
   ],
   "id": "c0ddeef350be2a05",
   "outputs": [
    {
     "data": {
      "text/plain": [
       "tensor([[[1, 2, 3],\n",
       "         [3, 6, 9],\n",
       "         [2, 4, 5]]])"
      ]
     },
     "execution_count": 14,
     "metadata": {},
     "output_type": "execute_result"
    }
   ],
   "execution_count": 14
  },
  {
   "metadata": {
    "ExecuteTime": {
     "end_time": "2024-11-19T00:48:17.854450Z",
     "start_time": "2024-11-19T00:48:17.848499Z"
    }
   },
   "cell_type": "code",
   "source": "TENSOR.ndim",
   "id": "a85ca3ea9312a253",
   "outputs": [
    {
     "data": {
      "text/plain": [
       "3"
      ]
     },
     "execution_count": 15,
     "metadata": {},
     "output_type": "execute_result"
    }
   ],
   "execution_count": 15
  },
  {
   "metadata": {
    "ExecuteTime": {
     "end_time": "2024-11-19T00:48:37.171612Z",
     "start_time": "2024-11-19T00:48:37.164865Z"
    }
   },
   "cell_type": "code",
   "source": "TENSOR.shape",
   "id": "3a74e00f9ab0719b",
   "outputs": [
    {
     "data": {
      "text/plain": [
       "torch.Size([1, 3, 3])"
      ]
     },
     "execution_count": 16,
     "metadata": {},
     "output_type": "execute_result"
    }
   ],
   "execution_count": 16
  },
  {
   "metadata": {
    "ExecuteTime": {
     "end_time": "2024-11-19T00:49:13.488505Z",
     "start_time": "2024-11-19T00:49:13.481074Z"
    }
   },
   "cell_type": "code",
   "source": "TENSOR[0]",
   "id": "99192916a479984e",
   "outputs": [
    {
     "data": {
      "text/plain": [
       "tensor([[1, 2, 3],\n",
       "        [3, 6, 9],\n",
       "        [2, 4, 5]])"
      ]
     },
     "execution_count": 17,
     "metadata": {},
     "output_type": "execute_result"
    }
   ],
   "execution_count": 17
  },
  {
   "metadata": {},
   "cell_type": "markdown",
   "source": "### Random tensors",
   "id": "7573f1abb35e6baa"
  },
  {
   "metadata": {
    "ExecuteTime": {
     "end_time": "2024-11-19T20:28:36.129685Z",
     "start_time": "2024-11-19T20:28:36.115369Z"
    }
   },
   "cell_type": "code",
   "source": [
    "random_tensor = torch.rand(3, 4)\n",
    "random_tensor"
   ],
   "id": "2a7a4edbbe47edf0",
   "outputs": [
    {
     "data": {
      "text/plain": [
       "tensor([[0.7597, 0.2848, 0.9651, 0.2255],\n",
       "        [0.1568, 0.5958, 0.7984, 0.0892],\n",
       "        [0.0983, 0.6300, 0.6572, 0.4809]])"
      ]
     },
     "execution_count": 4,
     "metadata": {},
     "output_type": "execute_result"
    }
   ],
   "execution_count": 4
  },
  {
   "metadata": {
    "ExecuteTime": {
     "end_time": "2024-11-19T20:29:39.760418Z",
     "start_time": "2024-11-19T20:29:39.753242Z"
    }
   },
   "cell_type": "code",
   "source": "random_tensor.ndim",
   "id": "7a5bff9cbaf4907b",
   "outputs": [
    {
     "data": {
      "text/plain": [
       "2"
      ]
     },
     "execution_count": 5,
     "metadata": {},
     "output_type": "execute_result"
    }
   ],
   "execution_count": 5
  },
  {
   "metadata": {},
   "cell_type": "markdown",
   "source": "#### Create a random tensor with similar shape to an image tensor",
   "id": "60d9f8cab3fef39b"
  },
  {
   "metadata": {
    "ExecuteTime": {
     "end_time": "2024-11-19T21:05:33.617368Z",
     "start_time": "2024-11-19T21:05:33.610422Z"
    }
   },
   "cell_type": "code",
   "source": "random_image_size_tensor = torch.rand(size=(224, 224, 3)) # height, width, color channels",
   "id": "49ceae8f86b594be",
   "outputs": [],
   "execution_count": 7
  },
  {
   "metadata": {
    "ExecuteTime": {
     "end_time": "2024-11-19T21:06:41.344694Z",
     "start_time": "2024-11-19T21:06:41.339582Z"
    }
   },
   "cell_type": "code",
   "source": "random_image_size_tensor.shape, random_image_size_tensor.ndim",
   "id": "80ea8f8ea25ad1f4",
   "outputs": [
    {
     "data": {
      "text/plain": [
       "(torch.Size([224, 224, 3]), 3)"
      ]
     },
     "execution_count": 9,
     "metadata": {},
     "output_type": "execute_result"
    }
   ],
   "execution_count": 9
  },
  {
   "metadata": {},
   "cell_type": "markdown",
   "source": [
    "#### Zeros and ones\n",
    "Create a tensor of all zeros"
   ],
   "id": "33ec432c3ab92cb9"
  },
  {
   "metadata": {
    "ExecuteTime": {
     "end_time": "2024-11-19T21:10:35.700196Z",
     "start_time": "2024-11-19T21:10:35.692398Z"
    }
   },
   "cell_type": "code",
   "source": [
    "zeros = torch.zeros(3, 4)\n",
    "zeros"
   ],
   "id": "30e4812ce50b9c1",
   "outputs": [
    {
     "data": {
      "text/plain": [
       "tensor([[0., 0., 0., 0.],\n",
       "        [0., 0., 0., 0.],\n",
       "        [0., 0., 0., 0.]])"
      ]
     },
     "execution_count": 10,
     "metadata": {},
     "output_type": "execute_result"
    }
   ],
   "execution_count": 10
  },
  {
   "metadata": {
    "ExecuteTime": {
     "end_time": "2024-11-19T21:12:03.554842Z",
     "start_time": "2024-11-19T21:12:03.548336Z"
    }
   },
   "cell_type": "code",
   "source": "zeros*random_tensor",
   "id": "4cf493b1c46c70ec",
   "outputs": [
    {
     "data": {
      "text/plain": [
       "tensor([[0., 0., 0., 0.],\n",
       "        [0., 0., 0., 0.],\n",
       "        [0., 0., 0., 0.]])"
      ]
     },
     "execution_count": 12,
     "metadata": {},
     "output_type": "execute_result"
    }
   ],
   "execution_count": 12
  },
  {
   "metadata": {},
   "cell_type": "markdown",
   "source": "#### Create a tensor of all ones",
   "id": "308f3ee605898d93"
  },
  {
   "metadata": {
    "ExecuteTime": {
     "end_time": "2024-11-19T21:13:10.613602Z",
     "start_time": "2024-11-19T21:13:10.605887Z"
    }
   },
   "cell_type": "code",
   "source": [
    "ones = torch.ones(3, 4)\n",
    "ones"
   ],
   "id": "e4d88f2cdb311dd0",
   "outputs": [
    {
     "data": {
      "text/plain": [
       "tensor([[1., 1., 1., 1.],\n",
       "        [1., 1., 1., 1.],\n",
       "        [1., 1., 1., 1.]])"
      ]
     },
     "execution_count": 13,
     "metadata": {},
     "output_type": "execute_result"
    }
   ],
   "execution_count": 13
  },
  {
   "metadata": {
    "ExecuteTime": {
     "end_time": "2024-11-19T21:18:32.251125Z",
     "start_time": "2024-11-19T21:18:32.245789Z"
    }
   },
   "cell_type": "code",
   "source": "ones.dtype",
   "id": "e132a50378771ee7",
   "outputs": [
    {
     "data": {
      "text/plain": [
       "torch.float32"
      ]
     },
     "execution_count": 14,
     "metadata": {},
     "output_type": "execute_result"
    }
   ],
   "execution_count": 14
  },
  {
   "metadata": {},
   "cell_type": "markdown",
   "source": "#### Creating a range of tensors and tensors-like",
   "id": "f91d12232345d2c1"
  },
  {
   "metadata": {
    "ExecuteTime": {
     "end_time": "2024-11-19T21:21:36.968661Z",
     "start_time": "2024-11-19T21:21:36.962747Z"
    }
   },
   "cell_type": "code",
   "source": "torch.arange(0, 10)",
   "id": "d0e07b16f55a88ac",
   "outputs": [
    {
     "data": {
      "text/plain": [
       "tensor([0, 1, 2, 3, 4, 5, 6, 7, 8, 9])"
      ]
     },
     "execution_count": 16,
     "metadata": {},
     "output_type": "execute_result"
    }
   ],
   "execution_count": 16
  },
  {
   "metadata": {
    "ExecuteTime": {
     "end_time": "2024-11-19T21:22:47.457723Z",
     "start_time": "2024-11-19T21:22:47.450835Z"
    }
   },
   "cell_type": "code",
   "source": [
    "one_to_ten = torch.arange(1, 11)\n",
    "one_to_ten"
   ],
   "id": "334e5e331ada2e70",
   "outputs": [
    {
     "data": {
      "text/plain": [
       "tensor([ 1,  2,  3,  4,  5,  6,  7,  8,  9, 10])"
      ]
     },
     "execution_count": 17,
     "metadata": {},
     "output_type": "execute_result"
    }
   ],
   "execution_count": 17
  },
  {
   "metadata": {
    "ExecuteTime": {
     "end_time": "2024-11-19T21:24:49.158095Z",
     "start_time": "2024-11-19T21:24:49.149510Z"
    }
   },
   "cell_type": "code",
   "source": [
    "range_tersors = torch.arange(start=0, end=1000, step=77)\n",
    "range_tersors"
   ],
   "id": "2b6c8159e228f531",
   "outputs": [
    {
     "data": {
      "text/plain": [
       "tensor([  0,  77, 154, 231, 308, 385, 462, 539, 616, 693, 770, 847, 924])"
      ]
     },
     "execution_count": 19,
     "metadata": {},
     "output_type": "execute_result"
    }
   ],
   "execution_count": 19
  },
  {
   "metadata": {},
   "cell_type": "markdown",
   "source": "#### Creating tensors like",
   "id": "a83f4f26f800482"
  },
  {
   "metadata": {
    "ExecuteTime": {
     "end_time": "2024-11-19T21:27:57.190891Z",
     "start_time": "2024-11-19T21:27:57.184384Z"
    }
   },
   "cell_type": "code",
   "source": [
    "ten_zeros =  torch.zeros_like(input=one_to_ten)\n",
    "ten_zeros"
   ],
   "id": "c1a5d80c10db79b5",
   "outputs": [
    {
     "data": {
      "text/plain": [
       "tensor([0, 0, 0, 0, 0, 0, 0, 0, 0, 0])"
      ]
     },
     "execution_count": 22,
     "metadata": {},
     "output_type": "execute_result"
    }
   ],
   "execution_count": 22
  },
  {
   "metadata": {},
   "cell_type": "markdown",
   "source": "#### Tensor datatypes",
   "id": "4de0c60fe841b014"
  },
  {
   "metadata": {
    "ExecuteTime": {
     "end_time": "2024-11-19T22:03:26.624123Z",
     "start_time": "2024-11-19T22:03:26.616842Z"
    }
   },
   "cell_type": "code",
   "source": [
    "float_32_tensor = torch.tensor([3.0, 6.0, 9.0], dtype=torch.float32,\n",
    "                               device=torch.device('cpu'),\n",
    "                               requires_grad=False) # whether or not to track gradients\n",
    "float_32_tensor"
   ],
   "id": "9c4ac4c343fc28e",
   "outputs": [
    {
     "data": {
      "text/plain": [
       "tensor([3., 6., 9.])"
      ]
     },
     "execution_count": 27,
     "metadata": {},
     "output_type": "execute_result"
    }
   ],
   "execution_count": 27
  },
  {
   "metadata": {
    "ExecuteTime": {
     "end_time": "2024-11-19T22:14:18.135860Z",
     "start_time": "2024-11-19T22:14:18.128905Z"
    }
   },
   "cell_type": "code",
   "source": "float_32_tensor.dtype",
   "id": "28487f6675f58d4c",
   "outputs": [
    {
     "data": {
      "text/plain": [
       "torch.float32"
      ]
     },
     "execution_count": 28,
     "metadata": {},
     "output_type": "execute_result"
    }
   ],
   "execution_count": 28
  },
  {
   "metadata": {
    "ExecuteTime": {
     "end_time": "2024-11-19T22:17:49.566554Z",
     "start_time": "2024-11-19T22:17:49.560889Z"
    }
   },
   "cell_type": "code",
   "source": [
    "float_16_tensor = float_32_tensor.type(torch.half)\n",
    "float_16_tensor.dtype\n"
   ],
   "id": "8088247fadc03d34",
   "outputs": [
    {
     "data": {
      "text/plain": [
       "torch.float16"
      ]
     },
     "execution_count": 29,
     "metadata": {},
     "output_type": "execute_result"
    }
   ],
   "execution_count": 29
  }
 ],
 "metadata": {
  "kernelspec": {
   "display_name": "AINotebook",
   "language": "python",
   "name": "ainotebook"
  },
  "language_info": {
   "codemirror_mode": {
    "name": "ipython",
    "version": 3
   },
   "file_extension": ".py",
   "mimetype": "text/x-python",
   "name": "python",
   "nbconvert_exporter": "python",
   "pygments_lexer": "ipython3",
   "version": "3.12.4"
  }
 },
 "nbformat": 4,
 "nbformat_minor": 5
}
